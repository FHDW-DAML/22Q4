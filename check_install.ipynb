{
 "cells": [
  {
   "cell_type": "code",
   "execution_count": 3,
   "id": "a53b295f",
   "metadata": {},
   "outputs": [
    {
     "name": "stdout",
     "output_type": "stream",
     "text": [
      "python version 3.9.12\n",
      "Selected Jupyter core packages...\n",
      "IPython          : 8.2.0\n",
      "ipykernel        : 6.9.1\n",
      "ipywidgets       : 7.6.5\n",
      "jupyter_client   : 6.1.12\n",
      "jupyter_core     : 4.9.2\n",
      "jupyter_server   : 1.13.5\n",
      "jupyterlab       : 3.3.2\n",
      "nbclient         : 0.5.13\n",
      "nbconvert        : 6.4.4\n",
      "nbformat         : 5.3.0\n",
      "notebook         : 6.4.8\n",
      "qtconsole        : 5.3.0\n",
      "traitlets        : 5.1.1\n",
      "pandas version 1.4.2\n",
      "numpy version 1.21.5\n",
      "seaborn version 0.11.2\n",
      "matplotlib version 3.5.1\n",
      "sklearn version 1.0.2\n"
     ]
    }
   ],
   "source": [
    "from platform import python_version\n",
    "print(\"python version \" + python_version())\n",
    "!jupyter --version\n",
    "import pandas as pd\n",
    "print (\"pandas version \" + pd.__version__)\n",
    "import numpy as np\n",
    "print (\"numpy version \" + np.__version__)\n",
    "import seaborn as sns\n",
    "print (\"seaborn version \" + sns.__version__)\n",
    "import matplotlib as plt\n",
    "print (\"matplotlib version \" + plt.__version__)\n",
    "import sklearn as sk\n",
    "print (\"sklearn version \" + sk.__version__)\n"
   ]
  },
  {
   "cell_type": "code",
   "execution_count": null,
   "id": "b0735e70",
   "metadata": {},
   "outputs": [],
   "source": []
  }
 ],
 "metadata": {
  "kernelspec": {
   "display_name": "Python 3 (ipykernel)",
   "language": "python",
   "name": "python3"
  },
  "language_info": {
   "codemirror_mode": {
    "name": "ipython",
    "version": 3
   },
   "file_extension": ".py",
   "mimetype": "text/x-python",
   "name": "python",
   "nbconvert_exporter": "python",
   "pygments_lexer": "ipython3",
   "version": "3.9.12"
  }
 },
 "nbformat": 4,
 "nbformat_minor": 5
}
